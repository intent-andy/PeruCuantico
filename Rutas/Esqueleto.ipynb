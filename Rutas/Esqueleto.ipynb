{
 "cells": [
  {
   "cell_type": "markdown",
   "id": "1d2841b4-4a32-4fc0-8204-580eead14629",
   "metadata": {},
   "source": [
    "# Software de generación de rutas"
   ]
  },
  {
   "cell_type": "code",
   "execution_count": 1,
   "id": "01f34e2b-87ee-4738-8b9c-e86a561e9823",
   "metadata": {},
   "outputs": [],
   "source": [
    "import pandas as pd"
   ]
  },
  {
   "cell_type": "code",
   "execution_count": 2,
   "id": "9e7079fd-03a3-4312-aeb4-e08365f6ca97",
   "metadata": {},
   "outputs": [],
   "source": [
    "%store -r df\n",
    "%store -r best_order\n",
    "best_order=list(best_order)\n",
    "%store -r distancia_arcos_filtrado\n",
    "distancia_filtrado=pd.DataFrame([distancia_arcos_filtrado])\n",
    "distancia=distancia_filtrado.transpose()\n",
    "\n",
    "%store -r df1\n",
    "%store -r best_order1\n",
    "best_order1=list(best_order1)\n",
    "%store -r distancia_arcos_filtrado1\n",
    "distancia_filtrado1=pd.DataFrame([distancia_arcos_filtrado1])\n",
    "distancia1=distancia_filtrado1.transpose()"
   ]
  },
  {
   "cell_type": "code",
   "execution_count": 3,
   "id": "759280ea-9eb2-4cc9-b9fb-853acb7200b4",
   "metadata": {},
   "outputs": [
    {
     "name": "stdout",
     "output_type": "stream",
     "text": [
      "Neotropical\n"
     ]
    },
    {
     "name": "stdin",
     "output_type": "stream",
     "text": [
      "¿Cuál es su nombre? Cris\n"
     ]
    },
    {
     "name": "stdout",
     "output_type": "stream",
     "text": [
      "Bienvenida/o a Madre de Dios Cris\n",
      "Le ofrecemos el mejor sistema de rutas:\n"
     ]
    },
    {
     "name": "stdin",
     "output_type": "stream",
     "text": [
      "Presione enter \n"
     ]
    },
    {
     "name": "stdout",
     "output_type": "stream",
     "text": [
      "A continuación Cris diríjase a:\n",
      "Parque Nacional Bahuaja-Sonene\n",
      "Su ubicación es: Latitud: -13.39279 Longitud: -69.45074\n"
     ]
    },
    {
     "name": "stdin",
     "output_type": "stream",
     "text": [
      "Presione enter \n"
     ]
    },
    {
     "name": "stdout",
     "output_type": "stream",
     "text": [
      "A continuación Cris diríjase a:\n",
      "Reserva Nacional de Tambopata\n",
      "Su ubicación es: Latitud: -12.93175 Longitud: -69.27269\n"
     ]
    },
    {
     "name": "stdin",
     "output_type": "stream",
     "text": [
      "Presione enter \n"
     ]
    },
    {
     "name": "stdout",
     "output_type": "stream",
     "text": [
      "A continuación Cris diríjase a:\n",
      "Puerto Maldonado (Capital de la región)\n",
      "Su ubicación es: Latitud: -12.61091 Longitud: -69.20856\n"
     ]
    },
    {
     "name": "stdin",
     "output_type": "stream",
     "text": [
      "Presione enter \n"
     ]
    },
    {
     "name": "stdout",
     "output_type": "stream",
     "text": [
      "A continuación Cris diríjase a:\n",
      "Provincia de Tahuamanu\n",
      "Su ubicación es: Latitud: -11.40862 Longitud: -69.50073\n"
     ]
    },
    {
     "name": "stdin",
     "output_type": "stream",
     "text": [
      "Presione enter \n"
     ]
    },
    {
     "name": "stdout",
     "output_type": "stream",
     "text": [
      "A continuación Cris diríjase a:\n",
      "Parque Nacional del Manu\n",
      "Su ubicación es: Latitud: -12.04043 Longitud: -71.723\n",
      "En este parque disponemos de una ruta especial que permite reducir el impacto ambiental al mínimo:\n"
     ]
    },
    {
     "name": "stdin",
     "output_type": "stream",
     "text": [
      "Presione enter \n"
     ]
    },
    {
     "name": "stdout",
     "output_type": "stream",
     "text": [
      "A continuación Cris diríjase a:\n",
      "Zona núcleo (investigaciones) Estación biológica Cocha Cashu\n",
      "Su ubicación es: Latitud: -11.88807 Longitud: -71.40751\n"
     ]
    },
    {
     "name": "stdin",
     "output_type": "stream",
     "text": [
      "Presione enter \n"
     ]
    },
    {
     "name": "stdout",
     "output_type": "stream",
     "text": [
      "A continuación Cris diríjase a:\n",
      "Río Panagua\n",
      "Su ubicación es: Latitud: -11.94679 Longitud: -71.31611\n"
     ]
    },
    {
     "name": "stdin",
     "output_type": "stream",
     "text": [
      "Presione enter \n"
     ]
    },
    {
     "name": "stdout",
     "output_type": "stream",
     "text": [
      "A continuación Cris diríjase a:\n",
      "Boca Manu\n",
      "Su ubicación es: Latitud: -12.25831 Longitud: -70.9151\n"
     ]
    },
    {
     "name": "stdin",
     "output_type": "stream",
     "text": [
      "Presione enter \n"
     ]
    },
    {
     "name": "stdout",
     "output_type": "stream",
     "text": [
      "A continuación Cris diríjase a:\n",
      "Cuenca del río Manu\n",
      "Su ubicación es: Latitud: -12.27422 Longitud: -70.93216\n"
     ]
    },
    {
     "name": "stdin",
     "output_type": "stream",
     "text": [
      "Presione enter \n"
     ]
    },
    {
     "name": "stdout",
     "output_type": "stream",
     "text": [
      "A continuación Cris diríjase a:\n",
      "Río Alto Madre de Dios\n",
      "Su ubicación es: Latitud: -12.35456 Longitud: -71.03513\n"
     ]
    },
    {
     "name": "stdin",
     "output_type": "stream",
     "text": [
      "Presione enter \n"
     ]
    },
    {
     "name": "stdout",
     "output_type": "stream",
     "text": [
      "A continuación Cris diríjase a:\n",
      "Kosñipata\n",
      "Su ubicación es: Latitud: -12.98428 Longitud: -71.4279\n"
     ]
    },
    {
     "name": "stdin",
     "output_type": "stream",
     "text": [
      "Presione enter \n"
     ]
    },
    {
     "name": "stdout",
     "output_type": "stream",
     "text": [
      "A continuación Cris diríjase a:\n",
      "Parque Nacional del Manu\n",
      "Su ubicación es: Latitud: -12.02877 Longitud: -71.72496\n",
      "Gracias por su visita\n"
     ]
    }
   ],
   "source": [
    "print(\"Neotropical\")\n",
    "name = input(\"¿Cuál es su nombre?\")\n",
    "print(\"Bienvenida/o a Madre de Dios\", name)\n",
    "print(\"Le ofrecemos el mejor sistema de rutas:\")\n",
    "\n",
    "for index in best_order:\n",
    "    input(\"Presione enter\")\n",
    "    print(\"A continuación\", name, \"diríjase a:\")\n",
    "    rut = df.loc[index][0]\n",
    "    print(rut)\n",
    "    \n",
    "    ubicacion_str = df.loc[index][1]\n",
    "    lat, lon = map(float, ubicacion_str.split(', '))  \n",
    "    ubicacion_lat = round(lat, 5)  \n",
    "    ubicacion_lon = round(lon, 5)  \n",
    "    \n",
    "    print(\"Su ubicación es: Latitud:\", ubicacion_lat, \"Longitud:\", ubicacion_lon)\n",
    "    \n",
    "    if index == 1:\n",
    "        print(\"En este parque disponemos de una ruta especial que permite reducir el impacto ambiental al mínimo:\")\n",
    "        for index in best_order1:\n",
    "            input(\"Presione enter\")\n",
    "            print(\"A continuación\", name, \"diríjase a:\")\n",
    "            rut1 = df1.loc[index][0]\n",
    "            print(rut1)\n",
    "    \n",
    "            ubicacion_str1 = df1.loc[index][1]\n",
    "            lat1, lon1 = map(float, ubicacion_str1.split(', '))  \n",
    "            ubicacion_lat1 = round(lat1, 5)  \n",
    "            ubicacion_lon1 = round(lon1, 5)  \n",
    "    \n",
    "            print(\"Su ubicación es: Latitud:\", ubicacion_lat1, \"Longitud:\", ubicacion_lon1)\n",
    "\n",
    "print(\"Gracias por su visita\")"
   ]
  }
 ],
 "metadata": {
  "kernelspec": {
   "display_name": "Python 3 (ipykernel)",
   "language": "python",
   "name": "python3"
  },
  "language_info": {
   "codemirror_mode": {
    "name": "ipython",
    "version": 3
   },
   "file_extension": ".py",
   "mimetype": "text/x-python",
   "name": "python",
   "nbconvert_exporter": "python",
   "pygments_lexer": "ipython3",
   "version": "3.10.8"
  }
 },
 "nbformat": 4,
 "nbformat_minor": 5
}
